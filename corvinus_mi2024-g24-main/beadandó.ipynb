{
 "cells": [
  {
   "cell_type": "code",
   "execution_count": 2,
   "metadata": {},
   "outputs": [],
   "source": [
    "import pandas as pd"
   ]
  },
  {
   "cell_type": "code",
   "execution_count": 3,
   "metadata": {},
   "outputs": [],
   "source": [
    "order = pd.read_csv(\"orders.csv\")\n",
    "product = pd.read_csv(\"product-supplier.csv\")\n",
    "code = pd.read_csv(\"countries-iso-codes.csv\", on_bad_lines='skip')"
   ]
  },
  {
   "cell_type": "code",
   "execution_count": 4,
   "metadata": {},
   "outputs": [
    {
     "data": {
      "text/html": [
       "<div>\n",
       "<style scoped>\n",
       "    .dataframe tbody tr th:only-of-type {\n",
       "        vertical-align: middle;\n",
       "    }\n",
       "\n",
       "    .dataframe tbody tr th {\n",
       "        vertical-align: top;\n",
       "    }\n",
       "\n",
       "    .dataframe thead th {\n",
       "        text-align: right;\n",
       "    }\n",
       "</style>\n",
       "<table border=\"1\" class=\"dataframe\">\n",
       "  <thead>\n",
       "    <tr style=\"text-align: right;\">\n",
       "      <th></th>\n",
       "      <th>Customer ID</th>\n",
       "      <th>Customer Status</th>\n",
       "      <th>Date Order was placed</th>\n",
       "      <th>Delivery Date</th>\n",
       "      <th>Order ID</th>\n",
       "      <th>Product ID</th>\n",
       "      <th>Quantity Ordered</th>\n",
       "      <th>Total Retail Price for This Order</th>\n",
       "      <th>Cost Price Per Unit</th>\n",
       "    </tr>\n",
       "  </thead>\n",
       "  <tbody>\n",
       "    <tr>\n",
       "      <th>0</th>\n",
       "      <td>579</td>\n",
       "      <td>Silver</td>\n",
       "      <td>01-Jan-17</td>\n",
       "      <td>07-Jan-17</td>\n",
       "      <td>123002578</td>\n",
       "      <td>220101400106</td>\n",
       "      <td>2</td>\n",
       "      <td>92.6</td>\n",
       "      <td>20.70</td>\n",
       "    </tr>\n",
       "    <tr>\n",
       "      <th>1</th>\n",
       "      <td>7574</td>\n",
       "      <td>SILVER</td>\n",
       "      <td>01-Jan-17</td>\n",
       "      <td>05-Jan-17</td>\n",
       "      <td>123004074</td>\n",
       "      <td>210201000009</td>\n",
       "      <td>1</td>\n",
       "      <td>21.7</td>\n",
       "      <td>9.95</td>\n",
       "    </tr>\n",
       "    <tr>\n",
       "      <th>2</th>\n",
       "      <td>28861</td>\n",
       "      <td>Gold</td>\n",
       "      <td>01-Jan-17</td>\n",
       "      <td>04-Jan-17</td>\n",
       "      <td>123000871</td>\n",
       "      <td>230100500068</td>\n",
       "      <td>1</td>\n",
       "      <td>1.7</td>\n",
       "      <td>0.80</td>\n",
       "    </tr>\n",
       "    <tr>\n",
       "      <th>3</th>\n",
       "      <td>43796</td>\n",
       "      <td>Gold</td>\n",
       "      <td>01-Jan-17</td>\n",
       "      <td>06-Jan-17</td>\n",
       "      <td>123002851</td>\n",
       "      <td>220100100633</td>\n",
       "      <td>1</td>\n",
       "      <td>47.9</td>\n",
       "      <td>24.05</td>\n",
       "    </tr>\n",
       "    <tr>\n",
       "      <th>4</th>\n",
       "      <td>54673</td>\n",
       "      <td>Gold</td>\n",
       "      <td>01-Jan-17</td>\n",
       "      <td>04-Jan-17</td>\n",
       "      <td>123003607</td>\n",
       "      <td>220200200043</td>\n",
       "      <td>1</td>\n",
       "      <td>36.9</td>\n",
       "      <td>18.30</td>\n",
       "    </tr>\n",
       "  </tbody>\n",
       "</table>\n",
       "</div>"
      ],
      "text/plain": [
       "   Customer ID Customer Status Date Order was placed Delivery Date   Order ID  \\\n",
       "0          579          Silver             01-Jan-17     07-Jan-17  123002578   \n",
       "1         7574          SILVER             01-Jan-17     05-Jan-17  123004074   \n",
       "2        28861            Gold             01-Jan-17     04-Jan-17  123000871   \n",
       "3        43796            Gold             01-Jan-17     06-Jan-17  123002851   \n",
       "4        54673            Gold             01-Jan-17     04-Jan-17  123003607   \n",
       "\n",
       "     Product ID  Quantity Ordered  Total Retail Price for This Order  \\\n",
       "0  220101400106                 2                               92.6   \n",
       "1  210201000009                 1                               21.7   \n",
       "2  230100500068                 1                                1.7   \n",
       "3  220100100633                 1                               47.9   \n",
       "4  220200200043                 1                               36.9   \n",
       "\n",
       "   Cost Price Per Unit  \n",
       "0                20.70  \n",
       "1                 9.95  \n",
       "2                 0.80  \n",
       "3                24.05  \n",
       "4                18.30  "
      ]
     },
     "execution_count": 4,
     "metadata": {},
     "output_type": "execute_result"
    }
   ],
   "source": [
    "order.head()"
   ]
  },
  {
   "cell_type": "code",
   "execution_count": 6,
   "metadata": {},
   "outputs": [
    {
     "data": {
      "text/plain": [
       "Customer ID                            int64\n",
       "Customer Status                       object\n",
       "Date Order was placed                 object\n",
       "Delivery Date                         object\n",
       "Order ID                               int64\n",
       "Product ID                             int64\n",
       "Quantity Ordered                       int64\n",
       "Total Retail Price for This Order    float64\n",
       "Cost Price Per Unit                  float64\n",
       "dtype: object"
      ]
     },
     "execution_count": 6,
     "metadata": {},
     "output_type": "execute_result"
    }
   ],
   "source": [
    "order.dtypes"
   ]
  },
  {
   "cell_type": "code",
   "execution_count": 7,
   "metadata": {},
   "outputs": [
    {
     "data": {
      "text/plain": [
       "['Customer ID',\n",
       " 'Customer Status',\n",
       " 'Date Order was placed',\n",
       " 'Delivery Date',\n",
       " 'Order ID',\n",
       " 'Product ID',\n",
       " 'Quantity Ordered',\n",
       " 'Total Retail Price for This Order',\n",
       " 'Cost Price Per Unit']"
      ]
     },
     "execution_count": 7,
     "metadata": {},
     "output_type": "execute_result"
    }
   ],
   "source": [
    "order.columns.tolist()"
   ]
  },
  {
   "cell_type": "code",
   "execution_count": 8,
   "metadata": {},
   "outputs": [
    {
     "data": {
      "text/html": [
       "<div>\n",
       "<style scoped>\n",
       "    .dataframe tbody tr th:only-of-type {\n",
       "        vertical-align: middle;\n",
       "    }\n",
       "\n",
       "    .dataframe tbody tr th {\n",
       "        vertical-align: top;\n",
       "    }\n",
       "\n",
       "    .dataframe thead th {\n",
       "        text-align: right;\n",
       "    }\n",
       "</style>\n",
       "<table border=\"1\" class=\"dataframe\">\n",
       "  <thead>\n",
       "    <tr style=\"text-align: right;\">\n",
       "      <th></th>\n",
       "      <th>Product ID</th>\n",
       "      <th>Product Line</th>\n",
       "      <th>Product Category</th>\n",
       "      <th>Product Group</th>\n",
       "      <th>Product Name</th>\n",
       "      <th>Supplier Country</th>\n",
       "      <th>Supplier Name</th>\n",
       "      <th>Supplier ID</th>\n",
       "    </tr>\n",
       "  </thead>\n",
       "  <tbody>\n",
       "    <tr>\n",
       "      <th>0</th>\n",
       "      <td>210100100001</td>\n",
       "      <td>Children</td>\n",
       "      <td>Children Outdoors</td>\n",
       "      <td>Outdoor things, Kids</td>\n",
       "      <td>Boy's and Girl's Ski Pants with Braces</td>\n",
       "      <td>NO</td>\n",
       "      <td>Scandinavian Clothing A/S</td>\n",
       "      <td>50</td>\n",
       "    </tr>\n",
       "    <tr>\n",
       "      <th>1</th>\n",
       "      <td>210100100002</td>\n",
       "      <td>Children</td>\n",
       "      <td>Children Outdoors</td>\n",
       "      <td>Outdoor things, Kids</td>\n",
       "      <td>Children's Jacket</td>\n",
       "      <td>ES</td>\n",
       "      <td>Luna sastreria S.A.</td>\n",
       "      <td>4742</td>\n",
       "    </tr>\n",
       "    <tr>\n",
       "      <th>2</th>\n",
       "      <td>210100100003</td>\n",
       "      <td>Children</td>\n",
       "      <td>Children Outdoors</td>\n",
       "      <td>Outdoor things, Kids</td>\n",
       "      <td>Children's Jacket Sidney</td>\n",
       "      <td>NO</td>\n",
       "      <td>Scandinavian Clothing A/S</td>\n",
       "      <td>50</td>\n",
       "    </tr>\n",
       "    <tr>\n",
       "      <th>3</th>\n",
       "      <td>210100100004</td>\n",
       "      <td>Children</td>\n",
       "      <td>Children Outdoors</td>\n",
       "      <td>Outdoor things, Kids</td>\n",
       "      <td>Children's Rain Set</td>\n",
       "      <td>NO</td>\n",
       "      <td>Scandinavian Clothing A/S</td>\n",
       "      <td>50</td>\n",
       "    </tr>\n",
       "    <tr>\n",
       "      <th>4</th>\n",
       "      <td>210100100005</td>\n",
       "      <td>Children</td>\n",
       "      <td>Children Outdoors</td>\n",
       "      <td>Outdoor things, Kids</td>\n",
       "      <td>Children's Rain Suit</td>\n",
       "      <td>NO</td>\n",
       "      <td>Scandinavian Clothing A/S</td>\n",
       "      <td>50</td>\n",
       "    </tr>\n",
       "  </tbody>\n",
       "</table>\n",
       "</div>"
      ],
      "text/plain": [
       "     Product ID Product Line   Product Category         Product Group  \\\n",
       "0  210100100001     Children  Children Outdoors  Outdoor things, Kids   \n",
       "1  210100100002     Children  Children Outdoors  Outdoor things, Kids   \n",
       "2  210100100003     Children  Children Outdoors  Outdoor things, Kids   \n",
       "3  210100100004     Children  Children Outdoors  Outdoor things, Kids   \n",
       "4  210100100005     Children  Children Outdoors  Outdoor things, Kids   \n",
       "\n",
       "                             Product Name Supplier Country  \\\n",
       "0  Boy's and Girl's Ski Pants with Braces               NO   \n",
       "1                       Children's Jacket               ES   \n",
       "2                Children's Jacket Sidney               NO   \n",
       "3                     Children's Rain Set               NO   \n",
       "4                    Children's Rain Suit               NO   \n",
       "\n",
       "               Supplier Name  Supplier ID  \n",
       "0  Scandinavian Clothing A/S           50  \n",
       "1        Luna sastreria S.A.         4742  \n",
       "2  Scandinavian Clothing A/S           50  \n",
       "3  Scandinavian Clothing A/S           50  \n",
       "4  Scandinavian Clothing A/S           50  "
      ]
     },
     "execution_count": 8,
     "metadata": {},
     "output_type": "execute_result"
    }
   ],
   "source": [
    "product.head()"
   ]
  },
  {
   "cell_type": "code",
   "execution_count": 9,
   "metadata": {},
   "outputs": [
    {
     "data": {
      "text/plain": [
       "Product ID           int64\n",
       "Product Line        object\n",
       "Product Category    object\n",
       "Product Group       object\n",
       "Product Name        object\n",
       "Supplier Country    object\n",
       "Supplier Name       object\n",
       "Supplier ID          int64\n",
       "dtype: object"
      ]
     },
     "execution_count": 9,
     "metadata": {},
     "output_type": "execute_result"
    }
   ],
   "source": [
    "product.dtypes"
   ]
  },
  {
   "cell_type": "code",
   "execution_count": 10,
   "metadata": {},
   "outputs": [
    {
     "data": {
      "text/html": [
       "<div>\n",
       "<style scoped>\n",
       "    .dataframe tbody tr th:only-of-type {\n",
       "        vertical-align: middle;\n",
       "    }\n",
       "\n",
       "    .dataframe tbody tr th {\n",
       "        vertical-align: top;\n",
       "    }\n",
       "\n",
       "    .dataframe thead th {\n",
       "        text-align: right;\n",
       "    }\n",
       "</style>\n",
       "<table border=\"1\" class=\"dataframe\">\n",
       "  <thead>\n",
       "    <tr style=\"text-align: right;\">\n",
       "      <th></th>\n",
       "      <th>Afghanistan</th>\n",
       "      <th>AF</th>\n",
       "      <th>AFG</th>\n",
       "      <th>004</th>\n",
       "    </tr>\n",
       "  </thead>\n",
       "  <tbody>\n",
       "    <tr>\n",
       "      <th>0</th>\n",
       "      <td>Albania</td>\n",
       "      <td>AL</td>\n",
       "      <td>ALB</td>\n",
       "      <td>8</td>\n",
       "    </tr>\n",
       "    <tr>\n",
       "      <th>1</th>\n",
       "      <td>Algeria</td>\n",
       "      <td>DZ</td>\n",
       "      <td>DZA</td>\n",
       "      <td>12</td>\n",
       "    </tr>\n",
       "    <tr>\n",
       "      <th>2</th>\n",
       "      <td>American Samoa</td>\n",
       "      <td>AS</td>\n",
       "      <td>ASM</td>\n",
       "      <td>16</td>\n",
       "    </tr>\n",
       "    <tr>\n",
       "      <th>3</th>\n",
       "      <td>Andorra</td>\n",
       "      <td>AD</td>\n",
       "      <td>AND</td>\n",
       "      <td>20</td>\n",
       "    </tr>\n",
       "    <tr>\n",
       "      <th>4</th>\n",
       "      <td>Angola</td>\n",
       "      <td>AO</td>\n",
       "      <td>AGO</td>\n",
       "      <td>24</td>\n",
       "    </tr>\n",
       "  </tbody>\n",
       "</table>\n",
       "</div>"
      ],
      "text/plain": [
       "      Afghanistan  AF  AFG  004\n",
       "0         Albania  AL  ALB    8\n",
       "1         Algeria  DZ  DZA   12\n",
       "2  American Samoa  AS  ASM   16\n",
       "3         Andorra  AD  AND   20\n",
       "4          Angola  AO  AGO   24"
      ]
     },
     "execution_count": 10,
     "metadata": {},
     "output_type": "execute_result"
    }
   ],
   "source": [
    "code.head()"
   ]
  },
  {
   "cell_type": "code",
   "execution_count": 11,
   "metadata": {},
   "outputs": [
    {
     "data": {
      "text/plain": [
       "Afghanistan    object\n",
       "AF             object\n",
       "AFG            object\n",
       "004             int64\n",
       "dtype: object"
      ]
     },
     "execution_count": 11,
     "metadata": {},
     "output_type": "execute_result"
    }
   ],
   "source": [
    "code.dtypes # szerintem kellene adni oszlop neveket, hogy kezelni tudjuk majd\n",
    "# de ha nem kell ebből nagyon felhasználni semmit, akkor be sem kell olvasni"
   ]
  },
  {
   "cell_type": "markdown",
   "metadata": {},
   "source": [
    "1. Kérdés: Hány féle termék szerepel az adatbázisban, ha a kategóriákat vesszük alapul?\n",
    "    13 féle termék szerepel a termékkategóriák alapján."
   ]
  },
  {
   "cell_type": "code",
   "execution_count": 12,
   "metadata": {},
   "outputs": [
    {
     "data": {
      "text/plain": [
       "Product Category\n",
       "Clothes                     1525\n",
       "Assorted Sports Articles     911\n",
       "Children Sports              722\n",
       "Shoes                        496\n",
       "Outdoors                     357\n",
       "Golf                         346\n",
       "Indoor Sports                264\n",
       "Running - Jogging            214\n",
       "Swim Sports                  205\n",
       "Racket Sports                169\n",
       "Winter Sports                164\n",
       "Team Sports                   81\n",
       "Children Outdoors             50\n",
       "Name: count, dtype: int64"
      ]
     },
     "execution_count": 12,
     "metadata": {},
     "output_type": "execute_result"
    }
   ],
   "source": [
    "product[\"Product Category\"].value_counts()"
   ]
  },
  {
   "cell_type": "markdown",
   "metadata": {},
   "source": [
    "2_a. Kérdés: Melyik szállító árulja az adatbázisban a legtöbb, illetve legkevesebb terméket?\n",
    "    Legtöbb terméket árulja: Eclipse Inc (1115 db.)\n",
    "    Legkevesebb terméket árulja: A. Pereira Sport (1 db.)"
   ]
  },
  {
   "cell_type": "code",
   "execution_count": 13,
   "metadata": {},
   "outputs": [
    {
     "data": {
      "text/plain": [
       "Supplier Name\n",
       "Eclipse Inc                      1115\n",
       "3Top Sports                       707\n",
       "Luna sastreria S.A.               369\n",
       "Van Dammeren International        221\n",
       "Magnifico Sports                  186\n",
       "                                 ... \n",
       "Meister Pharma & Chemie GmBH        7\n",
       "Rubby Zapatos S.A.                  5\n",
       "SnowSports International GmBH       5\n",
       "Dutchman Bikes                      4\n",
       "A. Pereira Sport                    1\n",
       "Name: count, Length: 64, dtype: int64"
      ]
     },
     "execution_count": 13,
     "metadata": {},
     "output_type": "execute_result"
    }
   ],
   "source": [
    "product[\"Supplier Name\"].value_counts()"
   ]
  },
  {
   "cell_type": "markdown",
   "metadata": {},
   "source": [
    "2_b. Kérdés: A termék-kategóriát figyelembe véve mely szállítók kínálják a legtöbbféle terméket, és melyek a legkevesebb fajtát (az adott kategóriában)?\n",
    "    "
   ]
  },
  {
   "cell_type": "code",
   "execution_count": 92,
   "metadata": {},
   "outputs": [
    {
     "data": {
      "text/html": [
       "<div>\n",
       "<style scoped>\n",
       "    .dataframe tbody tr th:only-of-type {\n",
       "        vertical-align: middle;\n",
       "    }\n",
       "\n",
       "    .dataframe tbody tr th {\n",
       "        vertical-align: top;\n",
       "    }\n",
       "\n",
       "    .dataframe thead th {\n",
       "        text-align: right;\n",
       "    }\n",
       "</style>\n",
       "<table border=\"1\" class=\"dataframe\">\n",
       "  <thead>\n",
       "    <tr style=\"text-align: right;\">\n",
       "      <th></th>\n",
       "      <th>Product Category</th>\n",
       "      <th>Supplier Name</th>\n",
       "      <th>Product Name</th>\n",
       "    </tr>\n",
       "  </thead>\n",
       "  <tbody>\n",
       "    <tr>\n",
       "      <th>0</th>\n",
       "      <td>Assorted Sports Articles</td>\n",
       "      <td>A Team Sports</td>\n",
       "      <td>12</td>\n",
       "    </tr>\n",
       "    <tr>\n",
       "      <th>1</th>\n",
       "      <td>Assorted Sports Articles</td>\n",
       "      <td>AllSeasons Outdoor Clothing</td>\n",
       "      <td>4</td>\n",
       "    </tr>\n",
       "    <tr>\n",
       "      <th>2</th>\n",
       "      <td>Assorted Sports Articles</td>\n",
       "      <td>Bianco Trading S.A.</td>\n",
       "      <td>8</td>\n",
       "    </tr>\n",
       "    <tr>\n",
       "      <th>3</th>\n",
       "      <td>Assorted Sports Articles</td>\n",
       "      <td>Bon Garrments</td>\n",
       "      <td>6</td>\n",
       "    </tr>\n",
       "    <tr>\n",
       "      <th>4</th>\n",
       "      <td>Assorted Sports Articles</td>\n",
       "      <td>British Sports Ltd</td>\n",
       "      <td>14</td>\n",
       "    </tr>\n",
       "    <tr>\n",
       "      <th>...</th>\n",
       "      <td>...</td>\n",
       "      <td>...</td>\n",
       "      <td>...</td>\n",
       "    </tr>\n",
       "    <tr>\n",
       "      <th>175</th>\n",
       "      <td>Winter Sports</td>\n",
       "      <td>Norsok A/S</td>\n",
       "      <td>10</td>\n",
       "    </tr>\n",
       "    <tr>\n",
       "      <th>176</th>\n",
       "      <td>Winter Sports</td>\n",
       "      <td>Scandinavian Clothing A/S</td>\n",
       "      <td>14</td>\n",
       "    </tr>\n",
       "    <tr>\n",
       "      <th>177</th>\n",
       "      <td>Winter Sports</td>\n",
       "      <td>SnowSports International GmBH</td>\n",
       "      <td>5</td>\n",
       "    </tr>\n",
       "    <tr>\n",
       "      <th>178</th>\n",
       "      <td>Winter Sports</td>\n",
       "      <td>Truls Sporting Goods</td>\n",
       "      <td>6</td>\n",
       "    </tr>\n",
       "    <tr>\n",
       "      <th>179</th>\n",
       "      <td>Winter Sports</td>\n",
       "      <td>Twain Inc</td>\n",
       "      <td>23</td>\n",
       "    </tr>\n",
       "  </tbody>\n",
       "</table>\n",
       "<p>180 rows × 3 columns</p>\n",
       "</div>"
      ],
      "text/plain": [
       "             Product Category                  Supplier Name  Product Name\n",
       "0    Assorted Sports Articles                  A Team Sports            12\n",
       "1    Assorted Sports Articles    AllSeasons Outdoor Clothing             4\n",
       "2    Assorted Sports Articles            Bianco Trading S.A.             8\n",
       "3    Assorted Sports Articles                  Bon Garrments             6\n",
       "4    Assorted Sports Articles             British Sports Ltd            14\n",
       "..                        ...                            ...           ...\n",
       "175             Winter Sports                     Norsok A/S            10\n",
       "176             Winter Sports      Scandinavian Clothing A/S            14\n",
       "177             Winter Sports  SnowSports International GmBH             5\n",
       "178             Winter Sports           Truls Sporting Goods             6\n",
       "179             Winter Sports                      Twain Inc            23\n",
       "\n",
       "[180 rows x 3 columns]"
      ]
     },
     "execution_count": 92,
     "metadata": {},
     "output_type": "execute_result"
    }
   ],
   "source": [
    "grouped_counts = product.groupby(['Product Category', 'Supplier Name'])['Product Name'].count().reset_index()\n",
    "grouped_counts"
   ]
  },
  {
   "cell_type": "code",
   "execution_count": 93,
   "metadata": {},
   "outputs": [],
   "source": [
    "max_suppliers = grouped_counts.loc[grouped_counts.groupby('Product Category')['Product Name'].idxmax()]\n",
    "min_suppliers = grouped_counts.loc[grouped_counts.groupby('Product Category')['Product Name'].idxmin()]"
   ]
  },
  {
   "cell_type": "code",
   "execution_count": 95,
   "metadata": {},
   "outputs": [
    {
     "name": "stdout",
     "output_type": "stream",
     "text": [
      "Supplier with the most product names in each category:\n",
      "             Product Category               Supplier Name  Product Name\n",
      "15   Assorted Sports Articles            Magnifico Sports           179\n",
      "39          Children Outdoors   Scandinavian Clothing A/S            20\n",
      "47            Children Sports                 Eclipse Inc           222\n",
      "65                    Clothes                 Eclipse Inc           642\n",
      "94                       Golf  Van Dammeren International           159\n",
      "100             Indoor Sports              Top Sports Inc           116\n",
      "117                  Outdoors                  Top Sports            64\n",
      "120             Racket Sports          British Sports Ltd            58\n",
      "133         Running - Jogging                Force Sports           140\n",
      "141                     Shoes                 Eclipse Inc           247\n",
      "156               Swim Sports     Nautlius SportsWear Inc           107\n",
      "166               Team Sports              Teamsports Inc            20\n",
      "169             Winter Sports     CrystalClear Optics Inc            34\n"
     ]
    }
   ],
   "source": [
    "print(\"Supplier with the most product names in each category:\")\n",
    "print(max_suppliers)"
   ]
  },
  {
   "cell_type": "code",
   "execution_count": 96,
   "metadata": {},
   "outputs": [
    {
     "name": "stdout",
     "output_type": "stream",
     "text": [
      "\n",
      "Supplier with the least product names in each category:\n",
      "             Product Category                Supplier Name  Product Name\n",
      "7    Assorted Sports Articles                  Eclipse Inc             1\n",
      "37          Children Outdoors           Miller Trading Inc             1\n",
      "52            Children Sports           Pro Sportswear Inc             1\n",
      "58                    Clothes             A. Pereira Sport             1\n",
      "85                       Golf  AllSeasons Outdoor Clothing             2\n",
      "95              Indoor Sports                A Team Sports             1\n",
      "102                  Outdoors                  3Top Sports             2\n",
      "122             Racket Sports      CrystalClear Optics Inc             1\n",
      "134         Running - Jogging         Greenline Sports Ltd             2\n",
      "140                     Shoes           British Sports Ltd             1\n",
      "152               Swim Sports                  3Top Sports             2\n",
      "164               Team Sports           Pro Sportswear Inc             1\n",
      "170             Winter Sports                  Eclipse Inc             1\n"
     ]
    }
   ],
   "source": [
    "print(\"\\nSupplier with the least product names in each category:\")\n",
    "print(min_suppliers)"
   ]
  }
 ],
 "metadata": {
  "kernelspec": {
   "display_name": "Python 3",
   "language": "python",
   "name": "python3"
  },
  "language_info": {
   "codemirror_mode": {
    "name": "ipython",
    "version": 3
   },
   "file_extension": ".py",
   "mimetype": "text/x-python",
   "name": "python",
   "nbconvert_exporter": "python",
   "pygments_lexer": "ipython3",
   "version": "3.12.2"
  }
 },
 "nbformat": 4,
 "nbformat_minor": 2
}
